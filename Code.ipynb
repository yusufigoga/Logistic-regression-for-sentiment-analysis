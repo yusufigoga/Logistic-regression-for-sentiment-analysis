{
 "cells": [
  {
   "cell_type": "markdown",
   "id": "d0657eed",
   "metadata": {},
   "source": [
    "# PDAN8412 PROGRAMMING PART 2- ST10065806\n",
    "\n",
    "We'll be using the dataset from the paper \"A Large Self-Annotated Corpus for Sarcasm\" with >1mln comments from Reddit, labeled as either sarcastic or not. A processed version can be found on Kaggle in a form of a Kaggle Dataset.\n",
    "\n",
    "Dataset: https://www.kaggle.com/datasets/sherinclaudia/sarcastic-comments-on-reddit\n",
    "\n",
    "Refrences: \n",
    "\n",
    "Data Pre-processing, EDA and logistic Regression:\n",
    "1. https://www.kaggle.com/code/yantiz/a4-demo-sarcasm-detection-with-logit#Part-2.-Training-the-model\n",
    "2. https://www.kaggle.com/code/fahadmehfoooz/saracsm-eda-bidirectional-cnn-logistic-deployment/notebook#notebook-container\n",
    "\n",
    "Logisitic Regression from scratch:\n",
    "1. https://www.analyticsvidhya.com/blog/2022/02/implementing-logistic-regression-from-scratch-using-python/\n",
    "2. https://towardsdatascience.com/logistic-regression-from-scratch-in-python-ec66603592e2\n",
    "3. https://www.kaggle.com/code/jeppbautista/logistic-regression-from-scratch-python\n",
    "4. https://www.kaggle.com/code/burhanykiyakoglu/k-nn-logistic-regression-k-fold-cv-from-scratch\n"
   ]
  },
  {
   "cell_type": "markdown",
   "id": "b5e056c9",
   "metadata": {},
   "source": [
    "## Imports\n",
    "\n",
    "Import pandas, numpy, matplotlib, seaborn, and datetime. Then set %matplotlib inline"
   ]
  },
  {
   "cell_type": "code",
   "execution_count": 1,
   "id": "a0ef1fbb",
   "metadata": {},
   "outputs": [],
   "source": [
    "import pandas as pd\n",
    "import numpy as np\n",
    "import seaborn as sns\n",
    "import matplotlib.pyplot as plt\n",
    "import datetime as dt\n",
    "import os\n",
    "\n",
    "%matplotlib inline"
   ]
  },
  {
   "cell_type": "markdown",
   "id": "83fa6434",
   "metadata": {},
   "source": [
    "## Getting Text\n",
    "\n",
    "It contains around 1 000 000 comments extracted from reddit . The comments have been annotated (0 = Sarcastic, 1 = Not sarcastic) and they will be used for this sentiment analysis.\n",
    "\n",
    "**We can simply use pandas instead of manually parsing TSV in Python**\n",
    "\n",
    "We'll use **read_csv**, to read the data in*."
   ]
  },
  {
   "cell_type": "code",
   "execution_count": 2,
   "id": "5fe24e33",
   "metadata": {},
   "outputs": [
    {
     "data": {
      "text/html": [
       "<div>\n",
       "<style scoped>\n",
       "    .dataframe tbody tr th:only-of-type {\n",
       "        vertical-align: middle;\n",
       "    }\n",
       "\n",
       "    .dataframe tbody tr th {\n",
       "        vertical-align: top;\n",
       "    }\n",
       "\n",
       "    .dataframe thead th {\n",
       "        text-align: right;\n",
       "    }\n",
       "</style>\n",
       "<table border=\"1\" class=\"dataframe\">\n",
       "  <thead>\n",
       "    <tr style=\"text-align: right;\">\n",
       "      <th></th>\n",
       "      <th>label</th>\n",
       "      <th>comment</th>\n",
       "      <th>author</th>\n",
       "      <th>subreddit</th>\n",
       "      <th>score</th>\n",
       "      <th>ups</th>\n",
       "      <th>downs</th>\n",
       "      <th>date</th>\n",
       "      <th>created_utc</th>\n",
       "      <th>parent_comment</th>\n",
       "    </tr>\n",
       "  </thead>\n",
       "  <tbody>\n",
       "    <tr>\n",
       "      <th>0</th>\n",
       "      <td>0</td>\n",
       "      <td>NC and NH.</td>\n",
       "      <td>Trumpbart</td>\n",
       "      <td>politics</td>\n",
       "      <td>2</td>\n",
       "      <td>-1</td>\n",
       "      <td>-1</td>\n",
       "      <td>2016-10</td>\n",
       "      <td>2016-10-16 23:55:23</td>\n",
       "      <td>Yeah, I get that argument. At this point, I'd ...</td>\n",
       "    </tr>\n",
       "    <tr>\n",
       "      <th>1</th>\n",
       "      <td>0</td>\n",
       "      <td>You do know west teams play against west teams...</td>\n",
       "      <td>Shbshb906</td>\n",
       "      <td>nba</td>\n",
       "      <td>-4</td>\n",
       "      <td>-1</td>\n",
       "      <td>-1</td>\n",
       "      <td>2016-11</td>\n",
       "      <td>2016-11-01 00:24:10</td>\n",
       "      <td>The blazers and Mavericks (The wests 5 and 6 s...</td>\n",
       "    </tr>\n",
       "    <tr>\n",
       "      <th>2</th>\n",
       "      <td>0</td>\n",
       "      <td>They were underdogs earlier today, but since G...</td>\n",
       "      <td>Creepeth</td>\n",
       "      <td>nfl</td>\n",
       "      <td>3</td>\n",
       "      <td>3</td>\n",
       "      <td>0</td>\n",
       "      <td>2016-09</td>\n",
       "      <td>2016-09-22 21:45:37</td>\n",
       "      <td>They're favored to win.</td>\n",
       "    </tr>\n",
       "    <tr>\n",
       "      <th>3</th>\n",
       "      <td>0</td>\n",
       "      <td>This meme isn't funny none of the \"new york ni...</td>\n",
       "      <td>icebrotha</td>\n",
       "      <td>BlackPeopleTwitter</td>\n",
       "      <td>-8</td>\n",
       "      <td>-1</td>\n",
       "      <td>-1</td>\n",
       "      <td>2016-10</td>\n",
       "      <td>2016-10-18 21:03:47</td>\n",
       "      <td>deadass don't kill my buzz</td>\n",
       "    </tr>\n",
       "    <tr>\n",
       "      <th>4</th>\n",
       "      <td>0</td>\n",
       "      <td>I could use one of those tools.</td>\n",
       "      <td>cush2push</td>\n",
       "      <td>MaddenUltimateTeam</td>\n",
       "      <td>6</td>\n",
       "      <td>-1</td>\n",
       "      <td>-1</td>\n",
       "      <td>2016-12</td>\n",
       "      <td>2016-12-30 17:00:13</td>\n",
       "      <td>Yep can confirm I saw the tool they use for th...</td>\n",
       "    </tr>\n",
       "  </tbody>\n",
       "</table>\n",
       "</div>"
      ],
      "text/plain": [
       "   label                                            comment     author  \\\n",
       "0      0                                         NC and NH.  Trumpbart   \n",
       "1      0  You do know west teams play against west teams...  Shbshb906   \n",
       "2      0  They were underdogs earlier today, but since G...   Creepeth   \n",
       "3      0  This meme isn't funny none of the \"new york ni...  icebrotha   \n",
       "4      0                    I could use one of those tools.  cush2push   \n",
       "\n",
       "            subreddit  score  ups  downs     date          created_utc  \\\n",
       "0            politics      2   -1     -1  2016-10  2016-10-16 23:55:23   \n",
       "1                 nba     -4   -1     -1  2016-11  2016-11-01 00:24:10   \n",
       "2                 nfl      3    3      0  2016-09  2016-09-22 21:45:37   \n",
       "3  BlackPeopleTwitter     -8   -1     -1  2016-10  2016-10-18 21:03:47   \n",
       "4  MaddenUltimateTeam      6   -1     -1  2016-12  2016-12-30 17:00:13   \n",
       "\n",
       "                                      parent_comment  \n",
       "0  Yeah, I get that argument. At this point, I'd ...  \n",
       "1  The blazers and Mavericks (The wests 5 and 6 s...  \n",
       "2                            They're favored to win.  \n",
       "3                         deadass don't kill my buzz  \n",
       "4  Yep can confirm I saw the tool they use for th...  "
      ]
     },
     "execution_count": 2,
     "metadata": {},
     "output_type": "execute_result"
    }
   ],
   "source": [
    "df = pd.read_csv('data.csv')\n",
    "df.head()"
   ]
  },
  {
   "cell_type": "markdown",
   "id": "bdc7698a",
   "metadata": {},
   "source": [
    "## Data Pre-Processing\n",
    "\n",
    "Some comments are missing, so we drop the corresponding rows."
   ]
  },
  {
   "cell_type": "code",
   "execution_count": 3,
   "id": "3370b2af",
   "metadata": {},
   "outputs": [
    {
     "name": "stderr",
     "output_type": "stream",
     "text": [
      "C:\\Users\\User\\AppData\\Local\\Temp/ipykernel_7428/813655304.py:5: FutureWarning: The default value of regex will change from True to False in a future version.\n",
      "  df['comment'] = df['comment'].str.replace('[^\\w\\s]','')\n"
     ]
    }
   ],
   "source": [
    "# Data Pre-Processing\n",
    "# Removing the null comments\n",
    "df.dropna(subset=['comment'], inplace=True)\n",
    "df['comment'] = df['comment'].str.lower()\n",
    "df['comment'] = df['comment'].str.replace('[^\\w\\s]','')"
   ]
  },
  {
   "cell_type": "code",
   "execution_count": 4,
   "id": "d2bee81e",
   "metadata": {},
   "outputs": [
    {
     "name": "stdout",
     "output_type": "stream",
     "text": [
      "<class 'pandas.core.frame.DataFrame'>\n",
      "Int64Index: 1010773 entries, 0 to 1010825\n",
      "Data columns (total 10 columns):\n",
      " #   Column          Non-Null Count    Dtype         \n",
      "---  ------          --------------    -----         \n",
      " 0   label           1010773 non-null  int64         \n",
      " 1   comment         1010773 non-null  object        \n",
      " 2   author          1010773 non-null  object        \n",
      " 3   subreddit       1010773 non-null  object        \n",
      " 4   score           1010773 non-null  int64         \n",
      " 5   ups             1010773 non-null  int64         \n",
      " 6   downs           1010773 non-null  int64         \n",
      " 7   date            1010773 non-null  object        \n",
      " 8   created_utc     1010773 non-null  datetime64[ns]\n",
      " 9   parent_comment  1010773 non-null  object        \n",
      "dtypes: datetime64[ns](1), int64(4), object(5)\n",
      "memory usage: 84.8+ MB\n"
     ]
    }
   ],
   "source": [
    "# Converting the timestamp into DateTime object\n",
    "df.created_utc = pd.to_datetime(df.created_utc)\n",
    "df.info()"
   ]
  },
  {
   "cell_type": "markdown",
   "id": "e059b654",
   "metadata": {},
   "source": [
    "We notice that the dataset is indeed balanced"
   ]
  },
  {
   "cell_type": "code",
   "execution_count": 5,
   "id": "932a070c",
   "metadata": {},
   "outputs": [
    {
     "data": {
      "text/plain": [
       "0    505405\n",
       "1    505368\n",
       "Name: label, dtype: int64"
      ]
     },
     "execution_count": 5,
     "metadata": {},
     "output_type": "execute_result"
    }
   ],
   "source": [
    "df['label'].value_counts()"
   ]
  },
  {
   "cell_type": "markdown",
   "id": "be69418e",
   "metadata": {},
   "source": [
    "## Exploratory Data Analysis\n",
    "\n",
    "Now that we cleaned the data up, Let's check out some of the stats with some plots and the built-in methods."
   ]
  },
  {
   "cell_type": "code",
   "execution_count": 6,
   "id": "24bd9047",
   "metadata": {},
   "outputs": [
    {
     "data": {
      "text/plain": [
       "Text(0.5, 1.0, 'Sentiment Data Distribution')"
      ]
     },
     "execution_count": 6,
     "metadata": {},
     "output_type": "execute_result"
    },
    {
     "data": {
      "image/png": "[encoded data removed]",
      "text/plain": [
       "<Figure size 576x288 with 1 Axes>"
      ]
     },
     "metadata": {
      "needs_background": "light"
     },
     "output_type": "display_data"
    }
   ],
   "source": [
    "val_count = df.label.value_counts()\n",
    "\n",
    "plt.figure(figsize=(8,4))\n",
    "plt.bar(val_count.index, val_count.values)\n",
    "plt.title(\"Sentiment Data Distribution\")"
   ]
  },
  {
   "cell_type": "markdown",
   "id": "c3f062aa",
   "metadata": {},
   "source": [
    "Distribution of lengths for sarcastic and normal comments is almost the same."
   ]
  },
  {
   "cell_type": "code",
   "execution_count": 7,
   "id": "21753a28",
   "metadata": {},
   "outputs": [
    {
     "data": {
      "text/plain": [
       "<matplotlib.legend.Legend at 0x115e5618bb0>"
      ]
     },
     "execution_count": 7,
     "metadata": {},
     "output_type": "execute_result"
    },
    {
     "data": {
      "image/png": "[encoded data removed]",
      "text/plain": [
       "<Figure size 432x288 with 1 Axes>"
      ]
     },
     "metadata": {
      "needs_background": "light"
     },
     "output_type": "display_data"
    }
   ],
   "source": [
    "df.loc[df['label'] == 1, 'comment'].str.len().apply(np.log1p).plot(kind='hist', label='sarcastic', alpha=0.5)\n",
    "df.loc[df['label'] == 0, 'comment'].str.len().apply(np.log1p).plot(kind='hist', label='normal', alpha=0.5)\n",
    "plt.legend()"
   ]
  },
  {
   "cell_type": "markdown",
   "id": "bdfe0c23",
   "metadata": {},
   "source": [
    "The length of the sarcastic remarks, according to the graph above, is not normally distributed, whereas the non-sarcastic comments have a minor negative skew."
   ]
  },
  {
   "cell_type": "markdown",
   "id": "d16aeb95",
   "metadata": {},
   "source": [
    "### Length of Comments\n",
    "\n",
    "Lets see if there is any relation between the length of the comment and the comment being sarcastic"
   ]
  },
  {
   "cell_type": "code",
   "execution_count": 8,
   "id": "d9692f79",
   "metadata": {},
   "outputs": [
    {
     "data": {
      "image/png": "[encoded data removed]",
      "text/plain": [
       "<Figure size 432x288 with 1 Axes>"
      ]
     },
     "metadata": {
      "needs_background": "light"
     },
     "output_type": "display_data"
    }
   ],
   "source": [
    "# Distribution of the lenth of Sarcastic comments\n",
    "sns.boxplot(x= df.loc[df['label'] == 1, 'comment'].str.len()).set(title = 'Length of Sarcastic Comments', xlabel = 'Length')\n",
    "sns.despine(offset=10, trim=True)\n",
    "plt.show()"
   ]
  },
  {
   "cell_type": "code",
   "execution_count": 9,
   "id": "03061f4d",
   "metadata": {},
   "outputs": [
    {
     "data": {
      "image/png": "[encoded data removed]",
      "text/plain": [
       "<Figure size 432x288 with 1 Axes>"
      ]
     },
     "metadata": {
      "needs_background": "light"
     },
     "output_type": "display_data"
    }
   ],
   "source": [
    "# Distribution of the lenth of Neutral comments\n",
    "sns.boxplot(x= df.loc[df['label'] == 0, 'comment'].str.len()).set(title = 'Length of Neutral Comments', xlabel = 'Length')\n",
    "sns.despine(offset=10, trim=True)\n",
    "plt.show()"
   ]
  },
  {
   "cell_type": "markdown",
   "id": "0334e2ee",
   "metadata": {},
   "source": [
    "We can see a skewness between Neutral comments and Sarcastic comments."
   ]
  },
  {
   "cell_type": "markdown",
   "id": "e4abb9d8",
   "metadata": {},
   "source": [
    "#### Portion of sarcastic comments for top 10 subreddits in the dataset\n",
    "\n",
    "Let's analyze whether some subreddits are more \"sarcastic\" on average than others."
   ]
  },
  {
   "cell_type": "code",
   "execution_count": 10,
   "id": "5ba3be17",
   "metadata": {},
   "outputs": [
    {
     "data": {
      "text/html": [
       "<div>\n",
       "<style scoped>\n",
       "    .dataframe tbody tr th:only-of-type {\n",
       "        vertical-align: middle;\n",
       "    }\n",
       "\n",
       "    .dataframe tbody tr th {\n",
       "        vertical-align: top;\n",
       "    }\n",
       "\n",
       "    .dataframe thead th {\n",
       "        text-align: right;\n",
       "    }\n",
       "</style>\n",
       "<table border=\"1\" class=\"dataframe\">\n",
       "  <thead>\n",
       "    <tr style=\"text-align: right;\">\n",
       "      <th></th>\n",
       "      <th>size</th>\n",
       "      <th>mean</th>\n",
       "      <th>sum</th>\n",
       "    </tr>\n",
       "    <tr>\n",
       "      <th>subreddit</th>\n",
       "      <th></th>\n",
       "      <th></th>\n",
       "      <th></th>\n",
       "    </tr>\n",
       "  </thead>\n",
       "  <tbody>\n",
       "    <tr>\n",
       "      <th>AskReddit</th>\n",
       "      <td>65674</td>\n",
       "      <td>0.401453</td>\n",
       "      <td>26365</td>\n",
       "    </tr>\n",
       "    <tr>\n",
       "      <th>politics</th>\n",
       "      <td>39493</td>\n",
       "      <td>0.605348</td>\n",
       "      <td>23907</td>\n",
       "    </tr>\n",
       "    <tr>\n",
       "      <th>worldnews</th>\n",
       "      <td>26376</td>\n",
       "      <td>0.642516</td>\n",
       "      <td>16947</td>\n",
       "    </tr>\n",
       "    <tr>\n",
       "      <th>leagueoflegends</th>\n",
       "      <td>21034</td>\n",
       "      <td>0.542312</td>\n",
       "      <td>11407</td>\n",
       "    </tr>\n",
       "    <tr>\n",
       "      <th>pcmasterrace</th>\n",
       "      <td>18987</td>\n",
       "      <td>0.566651</td>\n",
       "      <td>10759</td>\n",
       "    </tr>\n",
       "    <tr>\n",
       "      <th>funny</th>\n",
       "      <td>17939</td>\n",
       "      <td>0.451474</td>\n",
       "      <td>8099</td>\n",
       "    </tr>\n",
       "    <tr>\n",
       "      <th>news</th>\n",
       "      <td>16891</td>\n",
       "      <td>0.603457</td>\n",
       "      <td>10193</td>\n",
       "    </tr>\n",
       "    <tr>\n",
       "      <th>pics</th>\n",
       "      <td>16152</td>\n",
       "      <td>0.484336</td>\n",
       "      <td>7823</td>\n",
       "    </tr>\n",
       "    <tr>\n",
       "      <th>todayilearned</th>\n",
       "      <td>14159</td>\n",
       "      <td>0.547567</td>\n",
       "      <td>7753</td>\n",
       "    </tr>\n",
       "    <tr>\n",
       "      <th>nfl</th>\n",
       "      <td>14149</td>\n",
       "      <td>0.509859</td>\n",
       "      <td>7214</td>\n",
       "    </tr>\n",
       "  </tbody>\n",
       "</table>\n",
       "</div>"
      ],
      "text/plain": [
       "                  size      mean    sum\n",
       "subreddit                              \n",
       "AskReddit        65674  0.401453  26365\n",
       "politics         39493  0.605348  23907\n",
       "worldnews        26376  0.642516  16947\n",
       "leagueoflegends  21034  0.542312  11407\n",
       "pcmasterrace     18987  0.566651  10759\n",
       "funny            17939  0.451474   8099\n",
       "news             16891  0.603457  10193\n",
       "pics             16152  0.484336   7823\n",
       "todayilearned    14159  0.547567   7753\n",
       "nfl              14149  0.509859   7214"
      ]
     },
     "execution_count": 10,
     "metadata": {},
     "output_type": "execute_result"
    }
   ],
   "source": [
    "sub_df = df.groupby('subreddit')['label'].agg([np.size, np.mean, np.sum])\n",
    "sub_df.sort_values(by='size', ascending=False).head(10)"
   ]
  },
  {
   "cell_type": "code",
   "execution_count": 11,
   "id": "0475b97e",
   "metadata": {},
   "outputs": [
    {
     "data": {
      "text/html": [
       "<div>\n",
       "<style scoped>\n",
       "    .dataframe tbody tr th:only-of-type {\n",
       "        vertical-align: middle;\n",
       "    }\n",
       "\n",
       "    .dataframe tbody tr th {\n",
       "        vertical-align: top;\n",
       "    }\n",
       "\n",
       "    .dataframe thead th {\n",
       "        text-align: right;\n",
       "    }\n",
       "</style>\n",
       "<table border=\"1\" class=\"dataframe\">\n",
       "  <thead>\n",
       "    <tr style=\"text-align: right;\">\n",
       "      <th></th>\n",
       "      <th>size</th>\n",
       "      <th>mean</th>\n",
       "      <th>sum</th>\n",
       "    </tr>\n",
       "    <tr>\n",
       "      <th>subreddit</th>\n",
       "      <th></th>\n",
       "      <th></th>\n",
       "      <th></th>\n",
       "    </tr>\n",
       "  </thead>\n",
       "  <tbody>\n",
       "    <tr>\n",
       "      <th>creepyPMs</th>\n",
       "      <td>5466</td>\n",
       "      <td>0.784303</td>\n",
       "      <td>4287</td>\n",
       "    </tr>\n",
       "    <tr>\n",
       "      <th>MensRights</th>\n",
       "      <td>3355</td>\n",
       "      <td>0.680775</td>\n",
       "      <td>2284</td>\n",
       "    </tr>\n",
       "    <tr>\n",
       "      <th>ShitRedditSays</th>\n",
       "      <td>1284</td>\n",
       "      <td>0.661994</td>\n",
       "      <td>850</td>\n",
       "    </tr>\n",
       "    <tr>\n",
       "      <th>worldnews</th>\n",
       "      <td>26376</td>\n",
       "      <td>0.642516</td>\n",
       "      <td>16947</td>\n",
       "    </tr>\n",
       "    <tr>\n",
       "      <th>Libertarian</th>\n",
       "      <td>2562</td>\n",
       "      <td>0.640125</td>\n",
       "      <td>1640</td>\n",
       "    </tr>\n",
       "    <tr>\n",
       "      <th>atheism</th>\n",
       "      <td>7377</td>\n",
       "      <td>0.639555</td>\n",
       "      <td>4718</td>\n",
       "    </tr>\n",
       "    <tr>\n",
       "      <th>Conservative</th>\n",
       "      <td>1881</td>\n",
       "      <td>0.639553</td>\n",
       "      <td>1203</td>\n",
       "    </tr>\n",
       "    <tr>\n",
       "      <th>TwoXChromosomes</th>\n",
       "      <td>1560</td>\n",
       "      <td>0.632692</td>\n",
       "      <td>987</td>\n",
       "    </tr>\n",
       "    <tr>\n",
       "      <th>fatlogic</th>\n",
       "      <td>2356</td>\n",
       "      <td>0.623090</td>\n",
       "      <td>1468</td>\n",
       "    </tr>\n",
       "    <tr>\n",
       "      <th>facepalm</th>\n",
       "      <td>1268</td>\n",
       "      <td>0.617508</td>\n",
       "      <td>783</td>\n",
       "    </tr>\n",
       "  </tbody>\n",
       "</table>\n",
       "</div>"
      ],
      "text/plain": [
       "                  size      mean    sum\n",
       "subreddit                              \n",
       "creepyPMs         5466  0.784303   4287\n",
       "MensRights        3355  0.680775   2284\n",
       "ShitRedditSays    1284  0.661994    850\n",
       "worldnews        26376  0.642516  16947\n",
       "Libertarian       2562  0.640125   1640\n",
       "atheism           7377  0.639555   4718\n",
       "Conservative      1881  0.639553   1203\n",
       "TwoXChromosomes   1560  0.632692    987\n",
       "fatlogic          2356  0.623090   1468\n",
       "facepalm          1268  0.617508    783"
      ]
     },
     "execution_count": 11,
     "metadata": {},
     "output_type": "execute_result"
    }
   ],
   "source": [
    "sub_df[sub_df['size'] > 1000].sort_values(by='mean', ascending=False).head(10)"
   ]
  },
  {
   "cell_type": "markdown",
   "id": "f3b7a1e7",
   "metadata": {},
   "source": [
    "The same is not particularly insightful for authors. We can see the identical amounts of sarcastic and non-sarcastic comments, with the exception of the fact that someone's comments were sampled."
   ]
  },
  {
   "cell_type": "markdown",
   "id": "a794bc83",
   "metadata": {},
   "source": [
    "#### Lets look at specific days of the week so we can try to figure out if the day of the week makes a difference"
   ]
  },
  {
   "cell_type": "code",
   "execution_count": 12,
   "id": "29273a2c",
   "metadata": {},
   "outputs": [
    {
     "data": {
      "image/png": "[encoded data removed]",
      "text/plain": [
       "<Figure size 720x360 with 1 Axes>"
      ]
     },
     "metadata": {
      "needs_background": "light"
     },
     "output_type": "display_data"
    }
   ],
   "source": [
    "# Feature Engineering- Extracting the day of a week\n",
    "df['created_utc'] = pd.to_datetime(df['created_utc'], format = '%d/%m/%Y %H:%M:%S')\n",
    "df['Day of Week'] = df['created_utc'].dt.day_name()\n",
    "\n",
    "# Visualization of Column- label\n",
    "plt.figure(figsize=(10,5))\n",
    "ax = sns.countplot(x='Day of Week',  data= df.loc[df['label']==1])\n",
    "ax.set(title = \"Count of sarcastic comments per day\", xlabel=\"Days of the week\", ylabel = \"Total Count\")\n",
    "total = float(len(df ))\n",
    "for p in ax.patches:\n",
    "    height = p.get_height()\n",
    "    ax.text(p.get_x()+p.get_width()/2.,\n",
    "            height + 7,\n",
    "            '{:1.1f}%'.format((height/total)*100*2),\n",
    "            ha=\"center\") \n",
    "plt.show()"
   ]
  },
  {
   "cell_type": "markdown",
   "id": "f0011708",
   "metadata": {},
   "source": [
    "The aforementioned graphic demonstrates that fewer caustic remarks are made on the weekends. The fact that Reddit sees less traffic on weekends could be one factor contributing to this problem."
   ]
  },
  {
   "cell_type": "markdown",
   "id": "a67c189e",
   "metadata": {},
   "source": [
    "## Model Training using Logistic Regression\n",
    "\n",
    "First we will use the sklearn built-in import to carry out the logistic regression and determine the accuracy of our model, so that we can compare it with Logistic Regression from scratch that we will do next. "
   ]
  },
  {
   "cell_type": "markdown",
   "id": "29b818e2",
   "metadata": {},
   "source": [
    "Imports to carry out built-in logistic regression"
   ]
  },
  {
   "cell_type": "code",
   "execution_count": 13,
   "id": "da461cc7",
   "metadata": {},
   "outputs": [],
   "source": [
    "from sklearn.linear_model import LogisticRegression\n",
    "from sklearn.feature_extraction.text import TfidfVectorizer\n",
    "from sklearn.model_selection import train_test_split\n",
    "from sklearn.pipeline import Pipeline"
   ]
  },
  {
   "cell_type": "markdown",
   "id": "3d2fbd01",
   "metadata": {},
   "source": [
    "We split data into training and validation parts."
   ]
  },
  {
   "cell_type": "code",
   "execution_count": 14,
   "id": "4d65846d",
   "metadata": {},
   "outputs": [],
   "source": [
    "train_t, valid_t, y_train, y_valid = \\\n",
    "        train_test_split(df['comment'], df['label'], random_state=17)"
   ]
  },
  {
   "cell_type": "markdown",
   "id": "03fef78d",
   "metadata": {},
   "source": [
    "Now lets create the logisitc regression and create a pipeline"
   ]
  },
  {
   "cell_type": "code",
   "execution_count": 15,
   "id": "ae313833",
   "metadata": {},
   "outputs": [],
   "source": [
    "# build bigrams, put a limit on maximal number of features and minimal word frequency\n",
    "Vect = TfidfVectorizer(ngram_range=(1, 2), max_features=50000, min_df=2)\n",
    "\n",
    "# multinomial logistic regression a.k.a softmax classifier\n",
    "Model = LogisticRegression(C=1, n_jobs=4, solver='lbfgs', random_state=17, verbose=1)\n",
    "\n",
    "# sklearn's pipeline\n",
    "pipeline = Pipeline([('Vect', Vect),   ('Model', Model)])"
   ]
  },
  {
   "cell_type": "code",
   "execution_count": 16,
   "id": "2a4ed2f8",
   "metadata": {},
   "outputs": [
    {
     "name": "stderr",
     "output_type": "stream",
     "text": [
      "[Parallel(n_jobs=4)]: Using backend LokyBackend with 4 concurrent workers.\n",
      "[Parallel(n_jobs=4)]: Done   1 out of   1 | elapsed:   17.0s finished\n"
     ]
    }
   ],
   "source": [
    "pipeline.fit(train_t, y_train)\n",
    "\n",
    "valid_pred = pipeline.predict(valid_t)"
   ]
  },
  {
   "cell_type": "markdown",
   "id": "f86aba83",
   "metadata": {},
   "source": [
    "Checking the accuracy between the test data and the predicted data"
   ]
  },
  {
   "cell_type": "code",
   "execution_count": 17,
   "id": "28379dd0",
   "metadata": {},
   "outputs": [
    {
     "data": {
      "text/plain": [
       "0.7216791851013479"
      ]
     },
     "execution_count": 17,
     "metadata": {},
     "output_type": "execute_result"
    }
   ],
   "source": [
    "from sklearn.metrics import accuracy_score\n",
    "accuracy_score(y_valid, valid_pred)"
   ]
  },
  {
   "cell_type": "markdown",
   "id": "af567744",
   "metadata": {},
   "source": [
    "## Improving the model"
   ]
  },
  {
   "cell_type": "code",
   "execution_count": 18,
   "id": "92df4a42",
   "metadata": {},
   "outputs": [],
   "source": [
    "X_train, X_test = train_test_split(df, random_state=17)"
   ]
  },
  {
   "cell_type": "code",
   "execution_count": 19,
   "id": "0fbacde9",
   "metadata": {},
   "outputs": [],
   "source": [
    "from sklearn.preprocessing import FunctionTransformer\n",
    "from sklearn.pipeline import FeatureUnion\n",
    "\n",
    "Vect2 = TfidfVectorizer(ngram_range=(1, 2), max_features=50000, min_df=2)\n",
    "Vect3 = TfidfVectorizer(ngram_range=(1, 1))\n",
    "\n",
    "FU = FeatureUnion([ ('Vect2', Pipeline([('extract_field', FunctionTransformer(lambda x: x['comment'], validate=False)),\n",
    "                    ('tfidf',  Vect2)])), ('Vect3', Pipeline([('extract_field',  FunctionTransformer(lambda x: x['subreddit'], \n",
    "                     validate=False)), ('tfidf', Vect3)]))])\n",
    "\n",
    "# sklearn's pipeline\n",
    "pipeline2 = Pipeline([('FU', FU), ('Model', Model)])"
   ]
  },
  {
   "cell_type": "code",
   "execution_count": 20,
   "id": "a44a3b70",
   "metadata": {},
   "outputs": [
    {
     "name": "stderr",
     "output_type": "stream",
     "text": [
      "[Parallel(n_jobs=4)]: Using backend LokyBackend with 4 concurrent workers.\n",
      "[Parallel(n_jobs=4)]: Done   1 out of   1 | elapsed:   17.2s finished\n"
     ]
    },
    {
     "data": {
      "text/plain": [
       "Pipeline(steps=[('FU',\n",
       "                 FeatureUnion(transformer_list=[('Vect2',\n",
       "                                                 Pipeline(steps=[('extract_field',\n",
       "                                                                  FunctionTransformer(func=<function <lambda> at 0x000001159A178160>)),\n",
       "                                                                 ('tfidf',\n",
       "                                                                  TfidfVectorizer(max_features=50000,\n",
       "                                                                                  min_df=2,\n",
       "                                                                                  ngram_range=(1,\n",
       "                                                                                               2)))])),\n",
       "                                                ('Vect3',\n",
       "                                                 Pipeline(steps=[('extract_field',\n",
       "                                                                  FunctionTransformer(func=<function <lambda> at 0x000001159A178DC0>)),\n",
       "                                                                 ('tfidf',\n",
       "                                                                  TfidfVectorizer())]))])),\n",
       "                ('Model',\n",
       "                 LogisticRegression(C=1, n_jobs=4, random_state=17,\n",
       "                                    verbose=1))])"
      ]
     },
     "execution_count": 20,
     "metadata": {},
     "output_type": "execute_result"
    }
   ],
   "source": [
    "pipeline2.fit(X_train, y_train)"
   ]
  },
  {
   "cell_type": "code",
   "execution_count": 21,
   "id": "1ae49247",
   "metadata": {},
   "outputs": [],
   "source": [
    "valid_pred = pipeline2.predict(X_test)"
   ]
  },
  {
   "cell_type": "code",
   "execution_count": 22,
   "id": "3c676b8d",
   "metadata": {},
   "outputs": [
    {
     "data": {
      "text/plain": [
       "0.7243939309995489"
      ]
     },
     "execution_count": 22,
     "metadata": {},
     "output_type": "execute_result"
    }
   ],
   "source": [
    "accuracy_score(y_valid, valid_pred)"
   ]
  },
  {
   "cell_type": "markdown",
   "id": "899338e8",
   "metadata": {},
   "source": [
    "**As we can see, accuracy slightly increased**"
   ]
  },
  {
   "cell_type": "markdown",
   "id": "8d3576a9",
   "metadata": {},
   "source": [
    "## Confusion Matrix\n",
    "\n",
    "A table called a confusion matrix is used to describe how well a classification system performs. The output of a classification algorithm is shown and summarised in a confusion matrix."
   ]
  },
  {
   "cell_type": "code",
   "execution_count": 29,
   "id": "037a7208",
   "metadata": {},
   "outputs": [
    {
     "data": {
      "image/png": "[encoded data removed]",
      "text/plain": [
       "<Figure size 576x576 with 2 Axes>"
      ]
     },
     "metadata": {
      "needs_background": "light"
     },
     "output_type": "display_data"
    }
   ],
   "source": [
    "#This function prints and plots the confusion matrix.\n",
    "#Normalization can be applied by setting `normalize=True`.\n",
    "\n",
    "def cm(actual, predicted, classes, normalize=False, title='Confusion Matrix', figsize=(10,10), \n",
    "       cmap=plt.cm.Reds, path_to_save_fig=None):\n",
    "    \n",
    "    \n",
    "   \n",
    "    import itertools\n",
    "    from sklearn.metrics import confusion_matrix\n",
    "    cm = confusion_matrix(actual, predicted).T\n",
    "    if normalize:\n",
    "        cm = cm.astype('float') / cm.sum(axis=1)[:, np.newaxis]\n",
    "    \n",
    "    plt.figure(figsize=figsize)\n",
    "    plt.imshow(cm, interpolation='nearest', cmap=cmap)\n",
    "    plt.title(title)\n",
    "    plt.colorbar()\n",
    "    tick_marks = np.arange(len(classes))\n",
    "    plt.xticks(tick_marks, classes, rotation=90)\n",
    "    plt.yticks(tick_marks, classes)\n",
    "\n",
    "    fmt = '.2f' if normalize else 'd'\n",
    "    thresh = cm.max() / 2.\n",
    "    for i, j in itertools.product(range(cm.shape[0]), range(cm.shape[1])): plt.text(j, i, format(cm[i, j], fmt),\n",
    "                 horizontalalignment=\"center\", color=\"white\" if cm[i, j] > thresh else \"black\")\n",
    "\n",
    "    plt.tight_layout()\n",
    "    plt.ylabel('Predicted label')\n",
    "    plt.xlabel('True label')\n",
    "    \n",
    "    if path_to_save_fig: plt.savefig(path_to_save_fig, dpi=300, bbox_inches='tight')\n",
    "        \n",
    "cm(y_valid, valid_pred, pipeline2.named_steps['Model'].classes_, figsize=(8, 8))"
   ]
  },
  {
   "cell_type": "markdown",
   "id": "814cc072",
   "metadata": {},
   "source": [
    "As seen above the confusion matrix confirms the accuracy of our model."
   ]
  },
  {
   "cell_type": "code",
   "execution_count": 30,
   "id": "fba7d8ce",
   "metadata": {},
   "outputs": [],
   "source": [
    "from sklearn.metrics import classification_report"
   ]
  },
  {
   "cell_type": "code",
   "execution_count": 31,
   "id": "9e5479e6",
   "metadata": {},
   "outputs": [
    {
     "name": "stdout",
     "output_type": "stream",
     "text": [
      "              precision    recall  f1-score   support\n",
      "\n",
      "           0       0.71      0.76      0.73    126308\n",
      "           1       0.74      0.69      0.72    126386\n",
      "\n",
      "    accuracy                           0.72    252694\n",
      "   macro avg       0.73      0.72      0.72    252694\n",
      "weighted avg       0.73      0.72      0.72    252694\n",
      "\n"
     ]
    }
   ],
   "source": [
    "print(classification_report(y_valid, valid_pred))"
   ]
  },
  {
   "cell_type": "markdown",
   "id": "4fcb8be6",
   "metadata": {},
   "source": [
    "The report is not too bad, however as we can see the model is around 70% accurate. Meaning that 1 in 5 can be predicted inaccuratly, which to some would not be a good enogh accuracy for something like cancer prediciton or health prediciton but in terms of what we are trying to predict which is sarcasm the accuracy is good enough. "
   ]
  },
  {
   "cell_type": "markdown",
   "id": "d62054ed",
   "metadata": {},
   "source": [
    "## Logistic Regression from scratch"
   ]
  },
  {
   "cell_type": "markdown",
   "id": "e99e861a",
   "metadata": {},
   "source": [
    "Down below is the code for logistic regression from scratch, however unfortunately the code is not working but can still be understood. Im sure with a few adjusments it can be working but at the point that it is at i doesnt work."
   ]
  },
  {
   "cell_type": "markdown",
   "id": "930d9bae",
   "metadata": {},
   "source": [
    "X_train = df.drop(\"label\", axis=1).values[:int(0.8 * len(df))]\n",
    "\n",
    "y_train = df[\"label\"].values[:int(0.8 * len(df))]\n",
    "\n",
    "X_test = df.drop(\"label\", axis=1).values[int(0.8 * len(df)):]\n",
    "\n",
    "y_test = df[\"label\"].values[int(0.8 * len(df)):]"
   ]
  },
  {
   "cell_type": "markdown",
   "id": "d72758bf",
   "metadata": {},
   "source": [
    "class StandardScaler:\n",
    "    def __init__(self):\n",
    "        self.u = 0\n",
    "        self.s = 0\n",
    "    \n",
    "    def fit(self, X):\n",
    "        self.u = np.mean(X, axis=0)\n",
    "        self.s = np.std(X, axis=0)\n",
    "    \n",
    "    def transform(self, X):\n",
    "        return (X - self.u) / self.s"
   ]
  },
  {
   "cell_type": "markdown",
   "id": "8411387a",
   "metadata": {},
   "source": [
    "scaler = StandardScaler()\n",
    "scaler.fit(X_train)\n",
    "X_train = scaler.transform(X_train)\n",
    "X_test = scaler.transform(X_test)"
   ]
  },
  {
   "cell_type": "markdown",
   "id": "9989ed70",
   "metadata": {},
   "source": [
    "class LogisticRegression:\n",
    "    def __init__(self, max_iter=100, eta0=0.1):\n",
    "        self.max_iter = max_iter\n",
    "        self.eta0 = eta0\n",
    "    \n",
    "    def sigmoid(self, z):\n",
    "            return 1 / (1 + np.exp(-z))\n",
    "\n",
    "    def fit(self, X, y):\n",
    "        def initialize_parameters(dim):\n",
    "            w = np.zeros((dim, 1))\n",
    "            b = 0\n",
    "        \n",
    "            return {\"w\": w, \"b\": b}\n",
    "        \n",
    "        def propagate():\n",
    "            a = self.sigmoid(np.dot(self.parameters[\"w\"].T, self.X) + self.parameters[\"b\"])\n",
    "\n",
    "            return {\"dw\": 1 / self.m * np.dot(self.X, (a - self.y).T),\n",
    "                    \"db\": 1 / self.m * np.sum(a - self.y)}, \\\n",
    "                    -1 / self.m * (np.sum(self.y * np.log(a) + (1 - self.y) * np.log(1 - a)))\n",
    "\n",
    "        def optimize():\n",
    "            costs = []\n",
    "\n",
    "            for i in range(self.max_iter):\n",
    "                grads, cost = propagate()\n",
    "\n",
    "                self.parameters[\"w\"] -= self.eta0 * grads[\"dw\"]\n",
    "                self.parameters[\"b\"] -= self.eta0 * grads[\"db\"]\n",
    "\n",
    "                costs.append(cost)\n",
    "                \n",
    "            return costs\n",
    "\n",
    "        self.X = X.T\n",
    "        self.m = self.X.shape[1]\n",
    "        self.y = y.reshape(1, self.m)\n",
    "        self.parameters = initialize_parameters(self.X.shape[0])\n",
    "        self.costs = optimize()\n",
    "\n",
    "    def predict(self, X):\n",
    "        X = X.T\n",
    "        y_pred = np.zeros((1, X.shape[1]))\n",
    "        a = self.sigmoid(np.dot(self.parameters[\"w\"].T, X) + self.parameters[\"b\"])\n",
    "\n",
    "        for i in range(a.shape[1]):\n",
    "            y_pred[0, i] = 0 if a[0, i] <= 0.5 else 1\n",
    "        \n",
    "        return y_pred"
   ]
  },
  {
   "cell_type": "markdown",
   "id": "48f30978",
   "metadata": {},
   "source": [
    "log_clf = LogisticRegression(max_iter=100, eta0=1)\n",
    "log_clf.fit(X_train, y_train)\n",
    "y_pred = log_clf.predict(X_test)"
   ]
  },
  {
   "cell_type": "markdown",
   "id": "7e15746b",
   "metadata": {},
   "source": [
    "accuracy_score = np.mean(y_pred == y_test)\n",
    "accuracy_score"
   ]
  }
 ],
 "metadata": {
  "kernelspec": {
   "display_name": "Python 3 (ipykernel)",
   "language": "python",
   "name": "python3"
  },
  "language_info": {
   "codemirror_mode": {
    "name": "ipython",
    "version": 3
   },
   "file_extension": ".py",
   "mimetype": "text/x-python",
   "name": "python",
   "nbconvert_exporter": "python",
   "pygments_lexer": "ipython3",
   "version": "3.9.7"
  }
 },
 "nbformat": 4,
 "nbformat_minor": 5
}
